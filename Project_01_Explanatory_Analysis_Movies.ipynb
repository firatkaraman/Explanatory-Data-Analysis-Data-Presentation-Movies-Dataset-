{
 "cells": [
  {
   "cell_type": "markdown",
   "metadata": {},
   "source": [
    "# Project 1: Explanatory Data Analysis & Data Presentation (Movies Dataset)"
   ]
  },
  {
   "cell_type": "markdown",
   "metadata": {},
   "source": [
    "## Data Import and first Inspection"
   ]
  },
  {
   "cell_type": "code",
   "execution_count": 3,
   "metadata": {},
   "outputs": [],
   "source": [
    "import pandas as pd\n",
    "import matplotlib.pyplot as plt\n",
    "import numpy as np\n",
    "pd.options.display.max_columns = 30\n",
    "pd.options.display.float_format = '{:.2f}'.format"
   ]
  },
  {
   "cell_type": "code",
   "execution_count": 4,
   "metadata": {},
   "outputs": [],
   "source": [
    "df = pd.read_csv(\"movies_complete.csv\", parse_dates= [\"release_date\"])"
   ]
  },
  {
   "cell_type": "code",
   "execution_count": 8,
   "metadata": {},
   "outputs": [
    {
     "data": {
      "text/html": [
       "<div>\n",
       "<style scoped>\n",
       "    .dataframe tbody tr th:only-of-type {\n",
       "        vertical-align: middle;\n",
       "    }\n",
       "\n",
       "    .dataframe tbody tr th {\n",
       "        vertical-align: top;\n",
       "    }\n",
       "\n",
       "    .dataframe thead th {\n",
       "        text-align: right;\n",
       "    }\n",
       "</style>\n",
       "<table border=\"1\" class=\"dataframe\">\n",
       "  <thead>\n",
       "    <tr style=\"text-align: right;\">\n",
       "      <th></th>\n",
       "      <th>id</th>\n",
       "      <th>title</th>\n",
       "      <th>tagline</th>\n",
       "      <th>release_date</th>\n",
       "      <th>genres</th>\n",
       "      <th>belongs_to_collection</th>\n",
       "      <th>original_language</th>\n",
       "      <th>budget_musd</th>\n",
       "      <th>revenue_musd</th>\n",
       "      <th>production_companies</th>\n",
       "      <th>production_countries</th>\n",
       "      <th>vote_count</th>\n",
       "      <th>vote_average</th>\n",
       "      <th>popularity</th>\n",
       "      <th>runtime</th>\n",
       "      <th>overview</th>\n",
       "      <th>spoken_languages</th>\n",
       "      <th>poster_path</th>\n",
       "      <th>cast</th>\n",
       "      <th>cast_size</th>\n",
       "      <th>crew_size</th>\n",
       "      <th>director</th>\n",
       "    </tr>\n",
       "  </thead>\n",
       "  <tbody>\n",
       "    <tr>\n",
       "      <td>0</td>\n",
       "      <td>862</td>\n",
       "      <td>Toy Story</td>\n",
       "      <td>NaN</td>\n",
       "      <td>1995-10-30</td>\n",
       "      <td>Animation|Comedy|Family</td>\n",
       "      <td>Toy Story Collection</td>\n",
       "      <td>en</td>\n",
       "      <td>30.00</td>\n",
       "      <td>373.55</td>\n",
       "      <td>Pixar Animation Studios</td>\n",
       "      <td>United States of America</td>\n",
       "      <td>5415.00</td>\n",
       "      <td>7.70</td>\n",
       "      <td>21.95</td>\n",
       "      <td>81.00</td>\n",
       "      <td>Led by Woody, Andy's toys live happily in his ...</td>\n",
       "      <td>English</td>\n",
       "      <td>&lt;img src='http://image.tmdb.org/t/p/w185//uXDf...</td>\n",
       "      <td>Tom Hanks|Tim Allen|Don Rickles|Jim Varney|Wal...</td>\n",
       "      <td>13</td>\n",
       "      <td>106</td>\n",
       "      <td>John Lasseter</td>\n",
       "    </tr>\n",
       "    <tr>\n",
       "      <td>1</td>\n",
       "      <td>8844</td>\n",
       "      <td>Jumanji</td>\n",
       "      <td>Roll the dice and unleash the excitement!</td>\n",
       "      <td>1995-12-15</td>\n",
       "      <td>Adventure|Fantasy|Family</td>\n",
       "      <td>NaN</td>\n",
       "      <td>en</td>\n",
       "      <td>65.00</td>\n",
       "      <td>262.80</td>\n",
       "      <td>TriStar Pictures|Teitler Film|Interscope Commu...</td>\n",
       "      <td>United States of America</td>\n",
       "      <td>2413.00</td>\n",
       "      <td>6.90</td>\n",
       "      <td>17.02</td>\n",
       "      <td>104.00</td>\n",
       "      <td>When siblings Judy and Peter discover an encha...</td>\n",
       "      <td>English|Français</td>\n",
       "      <td>&lt;img src='http://image.tmdb.org/t/p/w185//vgpX...</td>\n",
       "      <td>Robin Williams|Jonathan Hyde|Kirsten Dunst|Bra...</td>\n",
       "      <td>26</td>\n",
       "      <td>16</td>\n",
       "      <td>Joe Johnston</td>\n",
       "    </tr>\n",
       "    <tr>\n",
       "      <td>2</td>\n",
       "      <td>15602</td>\n",
       "      <td>Grumpier Old Men</td>\n",
       "      <td>Still Yelling. Still Fighting. Still Ready for...</td>\n",
       "      <td>1995-12-22</td>\n",
       "      <td>Romance|Comedy</td>\n",
       "      <td>Grumpy Old Men Collection</td>\n",
       "      <td>en</td>\n",
       "      <td>nan</td>\n",
       "      <td>nan</td>\n",
       "      <td>Warner Bros.|Lancaster Gate</td>\n",
       "      <td>United States of America</td>\n",
       "      <td>92.00</td>\n",
       "      <td>6.50</td>\n",
       "      <td>11.71</td>\n",
       "      <td>101.00</td>\n",
       "      <td>A family wedding reignites the ancient feud be...</td>\n",
       "      <td>English</td>\n",
       "      <td>&lt;img src='http://image.tmdb.org/t/p/w185//1FSX...</td>\n",
       "      <td>Walter Matthau|Jack Lemmon|Ann-Margret|Sophia ...</td>\n",
       "      <td>7</td>\n",
       "      <td>4</td>\n",
       "      <td>Howard Deutch</td>\n",
       "    </tr>\n",
       "    <tr>\n",
       "      <td>3</td>\n",
       "      <td>31357</td>\n",
       "      <td>Waiting to Exhale</td>\n",
       "      <td>Friends are the people who let you be yourself...</td>\n",
       "      <td>1995-12-22</td>\n",
       "      <td>Comedy|Drama|Romance</td>\n",
       "      <td>NaN</td>\n",
       "      <td>en</td>\n",
       "      <td>16.00</td>\n",
       "      <td>81.45</td>\n",
       "      <td>Twentieth Century Fox Film Corporation</td>\n",
       "      <td>United States of America</td>\n",
       "      <td>34.00</td>\n",
       "      <td>6.10</td>\n",
       "      <td>3.86</td>\n",
       "      <td>127.00</td>\n",
       "      <td>Cheated on, mistreated and stepped on, the wom...</td>\n",
       "      <td>English</td>\n",
       "      <td>&lt;img src='http://image.tmdb.org/t/p/w185//4wjG...</td>\n",
       "      <td>Whitney Houston|Angela Bassett|Loretta Devine|...</td>\n",
       "      <td>10</td>\n",
       "      <td>10</td>\n",
       "      <td>Forest Whitaker</td>\n",
       "    </tr>\n",
       "    <tr>\n",
       "      <td>4</td>\n",
       "      <td>11862</td>\n",
       "      <td>Father of the Bride Part II</td>\n",
       "      <td>Just When His World Is Back To Normal... He's ...</td>\n",
       "      <td>1995-02-10</td>\n",
       "      <td>Comedy</td>\n",
       "      <td>Father of the Bride Collection</td>\n",
       "      <td>en</td>\n",
       "      <td>nan</td>\n",
       "      <td>76.58</td>\n",
       "      <td>Sandollar Productions|Touchstone Pictures</td>\n",
       "      <td>United States of America</td>\n",
       "      <td>173.00</td>\n",
       "      <td>5.70</td>\n",
       "      <td>8.39</td>\n",
       "      <td>106.00</td>\n",
       "      <td>Just when George Banks has recovered from his ...</td>\n",
       "      <td>English</td>\n",
       "      <td>&lt;img src='http://image.tmdb.org/t/p/w185//lf9R...</td>\n",
       "      <td>Steve Martin|Diane Keaton|Martin Short|Kimberl...</td>\n",
       "      <td>12</td>\n",
       "      <td>7</td>\n",
       "      <td>Charles Shyer</td>\n",
       "    </tr>\n",
       "    <tr>\n",
       "      <td>...</td>\n",
       "      <td>...</td>\n",
       "      <td>...</td>\n",
       "      <td>...</td>\n",
       "      <td>...</td>\n",
       "      <td>...</td>\n",
       "      <td>...</td>\n",
       "      <td>...</td>\n",
       "      <td>...</td>\n",
       "      <td>...</td>\n",
       "      <td>...</td>\n",
       "      <td>...</td>\n",
       "      <td>...</td>\n",
       "      <td>...</td>\n",
       "      <td>...</td>\n",
       "      <td>...</td>\n",
       "      <td>...</td>\n",
       "      <td>...</td>\n",
       "      <td>...</td>\n",
       "      <td>...</td>\n",
       "      <td>...</td>\n",
       "      <td>...</td>\n",
       "      <td>...</td>\n",
       "    </tr>\n",
       "    <tr>\n",
       "      <td>44686</td>\n",
       "      <td>439050</td>\n",
       "      <td>Subdue</td>\n",
       "      <td>Rising and falling between a man and woman</td>\n",
       "      <td>NaT</td>\n",
       "      <td>Drama|Family</td>\n",
       "      <td>NaN</td>\n",
       "      <td>fa</td>\n",
       "      <td>nan</td>\n",
       "      <td>nan</td>\n",
       "      <td>NaN</td>\n",
       "      <td>Iran</td>\n",
       "      <td>1.00</td>\n",
       "      <td>4.00</td>\n",
       "      <td>0.07</td>\n",
       "      <td>90.00</td>\n",
       "      <td>Rising and falling between a man and woman.</td>\n",
       "      <td>فارسی</td>\n",
       "      <td>&lt;img src='http://image.tmdb.org/t/p/w185//pfC8...</td>\n",
       "      <td>Leila Hatami|Kourosh Tahami|Elham Korda</td>\n",
       "      <td>3</td>\n",
       "      <td>9</td>\n",
       "      <td>Hamid Nematollah</td>\n",
       "    </tr>\n",
       "    <tr>\n",
       "      <td>44687</td>\n",
       "      <td>111109</td>\n",
       "      <td>Century of Birthing</td>\n",
       "      <td>NaN</td>\n",
       "      <td>2011-11-17</td>\n",
       "      <td>Drama</td>\n",
       "      <td>NaN</td>\n",
       "      <td>tl</td>\n",
       "      <td>nan</td>\n",
       "      <td>nan</td>\n",
       "      <td>Sine Olivia</td>\n",
       "      <td>Philippines</td>\n",
       "      <td>3.00</td>\n",
       "      <td>9.00</td>\n",
       "      <td>0.18</td>\n",
       "      <td>360.00</td>\n",
       "      <td>An artist struggles to finish his work while a...</td>\n",
       "      <td>NaN</td>\n",
       "      <td>&lt;img src='http://image.tmdb.org/t/p/w185//xZkm...</td>\n",
       "      <td>Angel Aquino|Perry Dizon|Hazel Orencio|Joel To...</td>\n",
       "      <td>11</td>\n",
       "      <td>6</td>\n",
       "      <td>Lav Diaz</td>\n",
       "    </tr>\n",
       "    <tr>\n",
       "      <td>44688</td>\n",
       "      <td>67758</td>\n",
       "      <td>Betrayal</td>\n",
       "      <td>A deadly game of wits.</td>\n",
       "      <td>2003-08-01</td>\n",
       "      <td>Action|Drama|Thriller</td>\n",
       "      <td>NaN</td>\n",
       "      <td>en</td>\n",
       "      <td>nan</td>\n",
       "      <td>nan</td>\n",
       "      <td>American World Pictures</td>\n",
       "      <td>United States of America</td>\n",
       "      <td>6.00</td>\n",
       "      <td>3.80</td>\n",
       "      <td>0.90</td>\n",
       "      <td>90.00</td>\n",
       "      <td>When one of her hits goes wrong, a professiona...</td>\n",
       "      <td>English</td>\n",
       "      <td>&lt;img src='http://image.tmdb.org/t/p/w185//eGga...</td>\n",
       "      <td>Erika Eleniak|Adam Baldwin|Julie du Page|James...</td>\n",
       "      <td>15</td>\n",
       "      <td>5</td>\n",
       "      <td>Mark L. Lester</td>\n",
       "    </tr>\n",
       "    <tr>\n",
       "      <td>44689</td>\n",
       "      <td>227506</td>\n",
       "      <td>Satan Triumphant</td>\n",
       "      <td>NaN</td>\n",
       "      <td>1917-10-21</td>\n",
       "      <td>NaN</td>\n",
       "      <td>NaN</td>\n",
       "      <td>en</td>\n",
       "      <td>nan</td>\n",
       "      <td>nan</td>\n",
       "      <td>Yermoliev</td>\n",
       "      <td>Russia</td>\n",
       "      <td>0.00</td>\n",
       "      <td>nan</td>\n",
       "      <td>0.00</td>\n",
       "      <td>87.00</td>\n",
       "      <td>In a small town live two brothers, one a minis...</td>\n",
       "      <td>NaN</td>\n",
       "      <td>&lt;img src='http://image.tmdb.org/t/p/w185//aorB...</td>\n",
       "      <td>Iwan Mosschuchin|Nathalie Lissenko|Pavel Pavlo...</td>\n",
       "      <td>5</td>\n",
       "      <td>2</td>\n",
       "      <td>Yakov Protazanov</td>\n",
       "    </tr>\n",
       "    <tr>\n",
       "      <td>44690</td>\n",
       "      <td>461257</td>\n",
       "      <td>Queerama</td>\n",
       "      <td>NaN</td>\n",
       "      <td>2017-06-09</td>\n",
       "      <td>NaN</td>\n",
       "      <td>NaN</td>\n",
       "      <td>en</td>\n",
       "      <td>nan</td>\n",
       "      <td>nan</td>\n",
       "      <td>NaN</td>\n",
       "      <td>United Kingdom</td>\n",
       "      <td>0.00</td>\n",
       "      <td>nan</td>\n",
       "      <td>0.16</td>\n",
       "      <td>75.00</td>\n",
       "      <td>50 years after decriminalisation of homosexual...</td>\n",
       "      <td>English</td>\n",
       "      <td>&lt;img src='http://image.tmdb.org/t/p/w185//oxFE...</td>\n",
       "      <td>NaN</td>\n",
       "      <td>0</td>\n",
       "      <td>1</td>\n",
       "      <td>Daisy Asquith</td>\n",
       "    </tr>\n",
       "  </tbody>\n",
       "</table>\n",
       "<p>44691 rows × 22 columns</p>\n",
       "</div>"
      ],
      "text/plain": [
       "           id                        title  \\\n",
       "0         862                    Toy Story   \n",
       "1        8844                      Jumanji   \n",
       "2       15602             Grumpier Old Men   \n",
       "3       31357            Waiting to Exhale   \n",
       "4       11862  Father of the Bride Part II   \n",
       "...       ...                          ...   \n",
       "44686  439050                       Subdue   \n",
       "44687  111109          Century of Birthing   \n",
       "44688   67758                     Betrayal   \n",
       "44689  227506             Satan Triumphant   \n",
       "44690  461257                     Queerama   \n",
       "\n",
       "                                                 tagline release_date  \\\n",
       "0                                                    NaN   1995-10-30   \n",
       "1              Roll the dice and unleash the excitement!   1995-12-15   \n",
       "2      Still Yelling. Still Fighting. Still Ready for...   1995-12-22   \n",
       "3      Friends are the people who let you be yourself...   1995-12-22   \n",
       "4      Just When His World Is Back To Normal... He's ...   1995-02-10   \n",
       "...                                                  ...          ...   \n",
       "44686         Rising and falling between a man and woman          NaT   \n",
       "44687                                                NaN   2011-11-17   \n",
       "44688                             A deadly game of wits.   2003-08-01   \n",
       "44689                                                NaN   1917-10-21   \n",
       "44690                                                NaN   2017-06-09   \n",
       "\n",
       "                         genres           belongs_to_collection  \\\n",
       "0       Animation|Comedy|Family            Toy Story Collection   \n",
       "1      Adventure|Fantasy|Family                             NaN   \n",
       "2                Romance|Comedy       Grumpy Old Men Collection   \n",
       "3          Comedy|Drama|Romance                             NaN   \n",
       "4                        Comedy  Father of the Bride Collection   \n",
       "...                         ...                             ...   \n",
       "44686              Drama|Family                             NaN   \n",
       "44687                     Drama                             NaN   \n",
       "44688     Action|Drama|Thriller                             NaN   \n",
       "44689                       NaN                             NaN   \n",
       "44690                       NaN                             NaN   \n",
       "\n",
       "      original_language  budget_musd  revenue_musd  \\\n",
       "0                    en        30.00        373.55   \n",
       "1                    en        65.00        262.80   \n",
       "2                    en          nan           nan   \n",
       "3                    en        16.00         81.45   \n",
       "4                    en          nan         76.58   \n",
       "...                 ...          ...           ...   \n",
       "44686                fa          nan           nan   \n",
       "44687                tl          nan           nan   \n",
       "44688                en          nan           nan   \n",
       "44689                en          nan           nan   \n",
       "44690                en          nan           nan   \n",
       "\n",
       "                                    production_companies  \\\n",
       "0                                Pixar Animation Studios   \n",
       "1      TriStar Pictures|Teitler Film|Interscope Commu...   \n",
       "2                            Warner Bros.|Lancaster Gate   \n",
       "3                 Twentieth Century Fox Film Corporation   \n",
       "4              Sandollar Productions|Touchstone Pictures   \n",
       "...                                                  ...   \n",
       "44686                                                NaN   \n",
       "44687                                        Sine Olivia   \n",
       "44688                            American World Pictures   \n",
       "44689                                          Yermoliev   \n",
       "44690                                                NaN   \n",
       "\n",
       "           production_countries  vote_count  vote_average  popularity  \\\n",
       "0      United States of America     5415.00          7.70       21.95   \n",
       "1      United States of America     2413.00          6.90       17.02   \n",
       "2      United States of America       92.00          6.50       11.71   \n",
       "3      United States of America       34.00          6.10        3.86   \n",
       "4      United States of America      173.00          5.70        8.39   \n",
       "...                         ...         ...           ...         ...   \n",
       "44686                      Iran        1.00          4.00        0.07   \n",
       "44687               Philippines        3.00          9.00        0.18   \n",
       "44688  United States of America        6.00          3.80        0.90   \n",
       "44689                    Russia        0.00           nan        0.00   \n",
       "44690            United Kingdom        0.00           nan        0.16   \n",
       "\n",
       "       runtime                                           overview  \\\n",
       "0        81.00  Led by Woody, Andy's toys live happily in his ...   \n",
       "1       104.00  When siblings Judy and Peter discover an encha...   \n",
       "2       101.00  A family wedding reignites the ancient feud be...   \n",
       "3       127.00  Cheated on, mistreated and stepped on, the wom...   \n",
       "4       106.00  Just when George Banks has recovered from his ...   \n",
       "...        ...                                                ...   \n",
       "44686    90.00        Rising and falling between a man and woman.   \n",
       "44687   360.00  An artist struggles to finish his work while a...   \n",
       "44688    90.00  When one of her hits goes wrong, a professiona...   \n",
       "44689    87.00  In a small town live two brothers, one a minis...   \n",
       "44690    75.00  50 years after decriminalisation of homosexual...   \n",
       "\n",
       "       spoken_languages                                        poster_path  \\\n",
       "0               English  <img src='http://image.tmdb.org/t/p/w185//uXDf...   \n",
       "1      English|Français  <img src='http://image.tmdb.org/t/p/w185//vgpX...   \n",
       "2               English  <img src='http://image.tmdb.org/t/p/w185//1FSX...   \n",
       "3               English  <img src='http://image.tmdb.org/t/p/w185//4wjG...   \n",
       "4               English  <img src='http://image.tmdb.org/t/p/w185//lf9R...   \n",
       "...                 ...                                                ...   \n",
       "44686             فارسی  <img src='http://image.tmdb.org/t/p/w185//pfC8...   \n",
       "44687               NaN  <img src='http://image.tmdb.org/t/p/w185//xZkm...   \n",
       "44688           English  <img src='http://image.tmdb.org/t/p/w185//eGga...   \n",
       "44689               NaN  <img src='http://image.tmdb.org/t/p/w185//aorB...   \n",
       "44690           English  <img src='http://image.tmdb.org/t/p/w185//oxFE...   \n",
       "\n",
       "                                                    cast  cast_size  \\\n",
       "0      Tom Hanks|Tim Allen|Don Rickles|Jim Varney|Wal...         13   \n",
       "1      Robin Williams|Jonathan Hyde|Kirsten Dunst|Bra...         26   \n",
       "2      Walter Matthau|Jack Lemmon|Ann-Margret|Sophia ...          7   \n",
       "3      Whitney Houston|Angela Bassett|Loretta Devine|...         10   \n",
       "4      Steve Martin|Diane Keaton|Martin Short|Kimberl...         12   \n",
       "...                                                  ...        ...   \n",
       "44686            Leila Hatami|Kourosh Tahami|Elham Korda          3   \n",
       "44687  Angel Aquino|Perry Dizon|Hazel Orencio|Joel To...         11   \n",
       "44688  Erika Eleniak|Adam Baldwin|Julie du Page|James...         15   \n",
       "44689  Iwan Mosschuchin|Nathalie Lissenko|Pavel Pavlo...          5   \n",
       "44690                                                NaN          0   \n",
       "\n",
       "       crew_size          director  \n",
       "0            106     John Lasseter  \n",
       "1             16      Joe Johnston  \n",
       "2              4     Howard Deutch  \n",
       "3             10   Forest Whitaker  \n",
       "4              7     Charles Shyer  \n",
       "...          ...               ...  \n",
       "44686          9  Hamid Nematollah  \n",
       "44687          6          Lav Diaz  \n",
       "44688          5    Mark L. Lester  \n",
       "44689          2  Yakov Protazanov  \n",
       "44690          1     Daisy Asquith  \n",
       "\n",
       "[44691 rows x 22 columns]"
      ]
     },
     "execution_count": 8,
     "metadata": {},
     "output_type": "execute_result"
    }
   ],
   "source": [
    "df"
   ]
  },
  {
   "cell_type": "code",
   "execution_count": 9,
   "metadata": {},
   "outputs": [
    {
     "name": "stdout",
     "output_type": "stream",
     "text": [
      "<class 'pandas.core.frame.DataFrame'>\n",
      "RangeIndex: 44691 entries, 0 to 44690\n",
      "Data columns (total 22 columns):\n",
      "id                       44691 non-null int64\n",
      "title                    44691 non-null object\n",
      "tagline                  20284 non-null object\n",
      "release_date             44657 non-null datetime64[ns]\n",
      "genres                   42586 non-null object\n",
      "belongs_to_collection    4463 non-null object\n",
      "original_language        44681 non-null object\n",
      "budget_musd              8854 non-null float64\n",
      "revenue_musd             7385 non-null float64\n",
      "production_companies     33356 non-null object\n",
      "production_countries     38835 non-null object\n",
      "vote_count               44691 non-null float64\n",
      "vote_average             42077 non-null float64\n",
      "popularity               44691 non-null float64\n",
      "runtime                  43179 non-null float64\n",
      "overview                 43740 non-null object\n",
      "spoken_languages         41094 non-null object\n",
      "poster_path              44467 non-null object\n",
      "cast                     42502 non-null object\n",
      "cast_size                44691 non-null int64\n",
      "crew_size                44691 non-null int64\n",
      "director                 43960 non-null object\n",
      "dtypes: datetime64[ns](1), float64(6), int64(3), object(12)\n",
      "memory usage: 7.5+ MB\n"
     ]
    }
   ],
   "source": [
    "df.info()"
   ]
  },
  {
   "cell_type": "markdown",
   "metadata": {},
   "source": [
    "__Features__:"
   ]
  },
  {
   "cell_type": "markdown",
   "metadata": {},
   "source": [
    "* **id:** The ID of the movie (clear/unique identifier).\n",
    "* **title:** The Official Title of the movie.\n",
    "* **tagline:** The tagline of the movie.\n",
    "* **release_date:** Theatrical Release Date of the movie.\n",
    "* **genres:** Genres associated with the movie.\n",
    "* **belongs_to_collection:** Gives information on the movie series/franchise the particular film belongs to.\n",
    "* **original_language:** The language in which the movie was originally shot in.\n",
    "* **budget_musd:** The budget of the movie in million dollars.\n",
    "* **revenue_musd:** The total revenue of the movie in million dollars.\n",
    "* **production_companies:** Production companies involved with the making of the movie.\n",
    "* **production_countries:** Countries where the movie was shot/produced in.\n",
    "* **vote_count:** The number of votes by users, as counted by TMDB.\n",
    "* **vote_average:** The average rating of the movie.\n",
    "* **popularity:** The Popularity Score assigned by TMDB.\n",
    "* **runtime:** The runtime of the movie in minutes.\n",
    "* **overview:** A brief blurb of the movie.\n",
    "* **spoken_languages:** Spoken languages in the film.\n",
    "* **poster_path:** The URL of the poster image.\n",
    "* **cast:** (Main) Actors appearing in the movie.\n",
    "* **cast_size:** number of Actors appearing in the movie.\n",
    "* **director:** Director of the movie.\n",
    "* **crew_size:** Size of the film crew (incl. director, excl. actors)."
   ]
  },
  {
   "cell_type": "code",
   "execution_count": 12,
   "metadata": {},
   "outputs": [
    {
     "data": {
      "text/plain": [
       "'Adventure|Fantasy|Family'"
      ]
     },
     "execution_count": 12,
     "metadata": {},
     "output_type": "execute_result"
    }
   ],
   "source": [
    "df.genres[1]"
   ]
  },
  {
   "cell_type": "code",
   "execution_count": 14,
   "metadata": {
    "jupyter": {
     "source_hidden": true
    }
   },
   "outputs": [
    {
     "data": {
      "text/plain": [
       "'Robin Williams|Jonathan Hyde|Kirsten Dunst|Bradley Pierce|Bonnie Hunt|Bebe Neuwirth|David Alan Grier|Patricia Clarkson|Adam Hann-Byrd|Laura Bell Bundy|James Handy|Gillian Barber|Brandon Obray|Cyrus Thiedeke|Gary Joseph Thorup|Leonard Zola|Lloyd Berry|Malcolm Stewart|Annabel Kershaw|Darryl Henriques|Robyn Driscoll|Peter Bryant|Sarah Gilson|Florica Vlad|June Lion|Brenda Lockmuller'"
      ]
     },
     "execution_count": 14,
     "metadata": {},
     "output_type": "execute_result"
    }
   ],
   "source": [
    "df.cast[1]"
   ]
  },
  {
   "cell_type": "code",
   "execution_count": 15,
   "metadata": {},
   "outputs": [
    {
     "data": {
      "text/html": [
       "<div>\n",
       "<style scoped>\n",
       "    .dataframe tbody tr th:only-of-type {\n",
       "        vertical-align: middle;\n",
       "    }\n",
       "\n",
       "    .dataframe tbody tr th {\n",
       "        vertical-align: top;\n",
       "    }\n",
       "\n",
       "    .dataframe thead th {\n",
       "        text-align: right;\n",
       "    }\n",
       "</style>\n",
       "<table border=\"1\" class=\"dataframe\">\n",
       "  <thead>\n",
       "    <tr style=\"text-align: right;\">\n",
       "      <th></th>\n",
       "      <th>id</th>\n",
       "      <th>budget_musd</th>\n",
       "      <th>revenue_musd</th>\n",
       "      <th>vote_count</th>\n",
       "      <th>vote_average</th>\n",
       "      <th>popularity</th>\n",
       "      <th>runtime</th>\n",
       "      <th>cast_size</th>\n",
       "      <th>crew_size</th>\n",
       "    </tr>\n",
       "  </thead>\n",
       "  <tbody>\n",
       "    <tr>\n",
       "      <td>count</td>\n",
       "      <td>44691.00</td>\n",
       "      <td>8854.00</td>\n",
       "      <td>7385.00</td>\n",
       "      <td>44691.00</td>\n",
       "      <td>42077.00</td>\n",
       "      <td>44691.00</td>\n",
       "      <td>43179.00</td>\n",
       "      <td>44691.00</td>\n",
       "      <td>44691.00</td>\n",
       "    </tr>\n",
       "    <tr>\n",
       "      <td>mean</td>\n",
       "      <td>107186.24</td>\n",
       "      <td>21.67</td>\n",
       "      <td>68.97</td>\n",
       "      <td>111.65</td>\n",
       "      <td>6.00</td>\n",
       "      <td>2.96</td>\n",
       "      <td>97.57</td>\n",
       "      <td>12.48</td>\n",
       "      <td>10.31</td>\n",
       "    </tr>\n",
       "    <tr>\n",
       "      <td>std</td>\n",
       "      <td>111806.36</td>\n",
       "      <td>34.36</td>\n",
       "      <td>146.61</td>\n",
       "      <td>495.32</td>\n",
       "      <td>1.28</td>\n",
       "      <td>6.04</td>\n",
       "      <td>34.65</td>\n",
       "      <td>12.12</td>\n",
       "      <td>15.89</td>\n",
       "    </tr>\n",
       "    <tr>\n",
       "      <td>min</td>\n",
       "      <td>2.00</td>\n",
       "      <td>0.00</td>\n",
       "      <td>0.00</td>\n",
       "      <td>0.00</td>\n",
       "      <td>0.00</td>\n",
       "      <td>0.00</td>\n",
       "      <td>1.00</td>\n",
       "      <td>0.00</td>\n",
       "      <td>0.00</td>\n",
       "    </tr>\n",
       "    <tr>\n",
       "      <td>25%</td>\n",
       "      <td>26033.50</td>\n",
       "      <td>2.00</td>\n",
       "      <td>2.41</td>\n",
       "      <td>3.00</td>\n",
       "      <td>5.30</td>\n",
       "      <td>0.40</td>\n",
       "      <td>86.00</td>\n",
       "      <td>6.00</td>\n",
       "      <td>2.00</td>\n",
       "    </tr>\n",
       "    <tr>\n",
       "      <td>50%</td>\n",
       "      <td>59110.00</td>\n",
       "      <td>8.20</td>\n",
       "      <td>16.87</td>\n",
       "      <td>10.00</td>\n",
       "      <td>6.10</td>\n",
       "      <td>1.15</td>\n",
       "      <td>95.00</td>\n",
       "      <td>10.00</td>\n",
       "      <td>6.00</td>\n",
       "    </tr>\n",
       "    <tr>\n",
       "      <td>75%</td>\n",
       "      <td>154251.00</td>\n",
       "      <td>25.00</td>\n",
       "      <td>67.64</td>\n",
       "      <td>35.00</td>\n",
       "      <td>6.80</td>\n",
       "      <td>3.77</td>\n",
       "      <td>107.00</td>\n",
       "      <td>15.00</td>\n",
       "      <td>12.00</td>\n",
       "    </tr>\n",
       "    <tr>\n",
       "      <td>max</td>\n",
       "      <td>469172.00</td>\n",
       "      <td>380.00</td>\n",
       "      <td>2787.97</td>\n",
       "      <td>14075.00</td>\n",
       "      <td>10.00</td>\n",
       "      <td>547.49</td>\n",
       "      <td>1256.00</td>\n",
       "      <td>313.00</td>\n",
       "      <td>435.00</td>\n",
       "    </tr>\n",
       "  </tbody>\n",
       "</table>\n",
       "</div>"
      ],
      "text/plain": [
       "             id  budget_musd  revenue_musd  vote_count  vote_average  \\\n",
       "count  44691.00      8854.00       7385.00    44691.00      42077.00   \n",
       "mean  107186.24        21.67         68.97      111.65          6.00   \n",
       "std   111806.36        34.36        146.61      495.32          1.28   \n",
       "min        2.00         0.00          0.00        0.00          0.00   \n",
       "25%    26033.50         2.00          2.41        3.00          5.30   \n",
       "50%    59110.00         8.20         16.87       10.00          6.10   \n",
       "75%   154251.00        25.00         67.64       35.00          6.80   \n",
       "max   469172.00       380.00       2787.97    14075.00         10.00   \n",
       "\n",
       "       popularity  runtime  cast_size  crew_size  \n",
       "count    44691.00 43179.00   44691.00   44691.00  \n",
       "mean         2.96    97.57      12.48      10.31  \n",
       "std          6.04    34.65      12.12      15.89  \n",
       "min          0.00     1.00       0.00       0.00  \n",
       "25%          0.40    86.00       6.00       2.00  \n",
       "50%          1.15    95.00      10.00       6.00  \n",
       "75%          3.77   107.00      15.00      12.00  \n",
       "max        547.49  1256.00     313.00     435.00  "
      ]
     },
     "execution_count": 15,
     "metadata": {},
     "output_type": "execute_result"
    }
   ],
   "source": [
    "df.describe()"
   ]
  },
  {
   "cell_type": "code",
   "execution_count": 13,
   "metadata": {},
   "outputs": [
    {
     "data": {
      "image/png": "[encoded data removed]",
      "text/plain": [
       "<Figure size 1440x864 with 9 Axes>"
      ]
     },
     "metadata": {
      "needs_background": "light"
     },
     "output_type": "display_data"
    }
   ],
   "source": [
    "df.hist(figsize = (20, 12), bins = 100)\n",
    "plt.show()"
   ]
  },
  {
   "cell_type": "code",
   "execution_count": 16,
   "metadata": {},
   "outputs": [
    {
     "data": {
      "text/plain": [
       "nan      35837\n",
       "5.00       286\n",
       "10.00      258\n",
       "20.00      243\n",
       "2.00       241\n",
       "15.00      226\n",
       "3.00       220\n",
       "25.00      206\n",
       "1.00       195\n",
       "30.00      189\n",
       "4.00       180\n",
       "6.00       173\n",
       "12.00      171\n",
       "40.00      166\n",
       "8.00       155\n",
       "0.50       141\n",
       "35.00      141\n",
       "7.00       137\n",
       "50.00      124\n",
       "1.50       119\n",
       "Name: budget_musd, dtype: int64"
      ]
     },
     "execution_count": 16,
     "metadata": {},
     "output_type": "execute_result"
    }
   ],
   "source": [
    "df.budget_musd.value_counts(dropna = False).head(20)"
   ]
  },
  {
   "cell_type": "code",
   "execution_count": null,
   "metadata": {},
   "outputs": [],
   "source": [
    "df.revenue_musd.value_counts(dropna = False).head(20)"
   ]
  },
  {
   "cell_type": "code",
   "execution_count": null,
   "metadata": {},
   "outputs": [],
   "source": [
    "df.vote_average.value_counts(dropna = False)"
   ]
  },
  {
   "cell_type": "code",
   "execution_count": null,
   "metadata": {},
   "outputs": [],
   "source": [
    "df.vote_count.value_counts()"
   ]
  },
  {
   "cell_type": "code",
   "execution_count": null,
   "metadata": {},
   "outputs": [],
   "source": [
    "df.describe(include = \"object\")"
   ]
  },
  {
   "cell_type": "code",
   "execution_count": null,
   "metadata": {},
   "outputs": [],
   "source": [
    "df[df.title == \"Cinderella\"]"
   ]
  },
  {
   "cell_type": "code",
   "execution_count": null,
   "metadata": {},
   "outputs": [],
   "source": []
  },
  {
   "cell_type": "markdown",
   "metadata": {},
   "source": [
    "## The best and the worst movies... (Part 1)"
   ]
  },
  {
   "cell_type": "code",
   "execution_count": null,
   "metadata": {},
   "outputs": [],
   "source": [
    "from IPython.display import HTML\n",
    "pd.options.display.max_colwidth = 200"
   ]
  },
  {
   "cell_type": "code",
   "execution_count": 5,
   "metadata": {},
   "outputs": [
    {
     "data": {
      "text/html": [
       "<div>\n",
       "<style scoped>\n",
       "    .dataframe tbody tr th:only-of-type {\n",
       "        vertical-align: middle;\n",
       "    }\n",
       "\n",
       "    .dataframe tbody tr th {\n",
       "        vertical-align: top;\n",
       "    }\n",
       "\n",
       "    .dataframe thead th {\n",
       "        text-align: right;\n",
       "    }\n",
       "</style>\n",
       "<table border=\"1\" class=\"dataframe\">\n",
       "  <thead>\n",
       "    <tr style=\"text-align: right;\">\n",
       "      <th></th>\n",
       "      <th>poster_path</th>\n",
       "      <th>title</th>\n",
       "      <th>budget_musd</th>\n",
       "      <th>revenue_musd</th>\n",
       "      <th>vote_count</th>\n",
       "      <th>vote_average</th>\n",
       "      <th>popularity</th>\n",
       "    </tr>\n",
       "  </thead>\n",
       "  <tbody>\n",
       "    <tr>\n",
       "      <td>0</td>\n",
       "      <td>&lt;img src='http://image.tmdb.org/t/p/w185//uXDf...</td>\n",
       "      <td>Toy Story</td>\n",
       "      <td>30.00</td>\n",
       "      <td>373.55</td>\n",
       "      <td>5415.00</td>\n",
       "      <td>7.70</td>\n",
       "      <td>21.95</td>\n",
       "    </tr>\n",
       "    <tr>\n",
       "      <td>1</td>\n",
       "      <td>&lt;img src='http://image.tmdb.org/t/p/w185//vgpX...</td>\n",
       "      <td>Jumanji</td>\n",
       "      <td>65.00</td>\n",
       "      <td>262.80</td>\n",
       "      <td>2413.00</td>\n",
       "      <td>6.90</td>\n",
       "      <td>17.02</td>\n",
       "    </tr>\n",
       "    <tr>\n",
       "      <td>2</td>\n",
       "      <td>&lt;img src='http://image.tmdb.org/t/p/w185//1FSX...</td>\n",
       "      <td>Grumpier Old Men</td>\n",
       "      <td>nan</td>\n",
       "      <td>nan</td>\n",
       "      <td>92.00</td>\n",
       "      <td>6.50</td>\n",
       "      <td>11.71</td>\n",
       "    </tr>\n",
       "    <tr>\n",
       "      <td>3</td>\n",
       "      <td>&lt;img src='http://image.tmdb.org/t/p/w185//4wjG...</td>\n",
       "      <td>Waiting to Exhale</td>\n",
       "      <td>16.00</td>\n",
       "      <td>81.45</td>\n",
       "      <td>34.00</td>\n",
       "      <td>6.10</td>\n",
       "      <td>3.86</td>\n",
       "    </tr>\n",
       "    <tr>\n",
       "      <td>4</td>\n",
       "      <td>&lt;img src='http://image.tmdb.org/t/p/w185//lf9R...</td>\n",
       "      <td>Father of the Bride Part II</td>\n",
       "      <td>nan</td>\n",
       "      <td>76.58</td>\n",
       "      <td>173.00</td>\n",
       "      <td>5.70</td>\n",
       "      <td>8.39</td>\n",
       "    </tr>\n",
       "    <tr>\n",
       "      <td>...</td>\n",
       "      <td>...</td>\n",
       "      <td>...</td>\n",
       "      <td>...</td>\n",
       "      <td>...</td>\n",
       "      <td>...</td>\n",
       "      <td>...</td>\n",
       "      <td>...</td>\n",
       "    </tr>\n",
       "    <tr>\n",
       "      <td>44686</td>\n",
       "      <td>&lt;img src='http://image.tmdb.org/t/p/w185//pfC8...</td>\n",
       "      <td>Subdue</td>\n",
       "      <td>nan</td>\n",
       "      <td>nan</td>\n",
       "      <td>1.00</td>\n",
       "      <td>4.00</td>\n",
       "      <td>0.07</td>\n",
       "    </tr>\n",
       "    <tr>\n",
       "      <td>44687</td>\n",
       "      <td>&lt;img src='http://image.tmdb.org/t/p/w185//xZkm...</td>\n",
       "      <td>Century of Birthing</td>\n",
       "      <td>nan</td>\n",
       "      <td>nan</td>\n",
       "      <td>3.00</td>\n",
       "      <td>9.00</td>\n",
       "      <td>0.18</td>\n",
       "    </tr>\n",
       "    <tr>\n",
       "      <td>44688</td>\n",
       "      <td>&lt;img src='http://image.tmdb.org/t/p/w185//eGga...</td>\n",
       "      <td>Betrayal</td>\n",
       "      <td>nan</td>\n",
       "      <td>nan</td>\n",
       "      <td>6.00</td>\n",
       "      <td>3.80</td>\n",
       "      <td>0.90</td>\n",
       "    </tr>\n",
       "    <tr>\n",
       "      <td>44689</td>\n",
       "      <td>&lt;img src='http://image.tmdb.org/t/p/w185//aorB...</td>\n",
       "      <td>Satan Triumphant</td>\n",
       "      <td>nan</td>\n",
       "      <td>nan</td>\n",
       "      <td>0.00</td>\n",
       "      <td>nan</td>\n",
       "      <td>0.00</td>\n",
       "    </tr>\n",
       "    <tr>\n",
       "      <td>44690</td>\n",
       "      <td>&lt;img src='http://image.tmdb.org/t/p/w185//oxFE...</td>\n",
       "      <td>Queerama</td>\n",
       "      <td>nan</td>\n",
       "      <td>nan</td>\n",
       "      <td>0.00</td>\n",
       "      <td>nan</td>\n",
       "      <td>0.16</td>\n",
       "    </tr>\n",
       "  </tbody>\n",
       "</table>\n",
       "<p>44691 rows × 7 columns</p>\n",
       "</div>"
      ],
      "text/plain": [
       "                                             poster_path  \\\n",
       "0      <img src='http://image.tmdb.org/t/p/w185//uXDf...   \n",
       "1      <img src='http://image.tmdb.org/t/p/w185//vgpX...   \n",
       "2      <img src='http://image.tmdb.org/t/p/w185//1FSX...   \n",
       "3      <img src='http://image.tmdb.org/t/p/w185//4wjG...   \n",
       "4      <img src='http://image.tmdb.org/t/p/w185//lf9R...   \n",
       "...                                                  ...   \n",
       "44686  <img src='http://image.tmdb.org/t/p/w185//pfC8...   \n",
       "44687  <img src='http://image.tmdb.org/t/p/w185//xZkm...   \n",
       "44688  <img src='http://image.tmdb.org/t/p/w185//eGga...   \n",
       "44689  <img src='http://image.tmdb.org/t/p/w185//aorB...   \n",
       "44690  <img src='http://image.tmdb.org/t/p/w185//oxFE...   \n",
       "\n",
       "                             title  budget_musd  revenue_musd  vote_count  \\\n",
       "0                        Toy Story        30.00        373.55     5415.00   \n",
       "1                          Jumanji        65.00        262.80     2413.00   \n",
       "2                 Grumpier Old Men          nan           nan       92.00   \n",
       "3                Waiting to Exhale        16.00         81.45       34.00   \n",
       "4      Father of the Bride Part II          nan         76.58      173.00   \n",
       "...                            ...          ...           ...         ...   \n",
       "44686                       Subdue          nan           nan        1.00   \n",
       "44687          Century of Birthing          nan           nan        3.00   \n",
       "44688                     Betrayal          nan           nan        6.00   \n",
       "44689             Satan Triumphant          nan           nan        0.00   \n",
       "44690                     Queerama          nan           nan        0.00   \n",
       "\n",
       "       vote_average  popularity  \n",
       "0              7.70       21.95  \n",
       "1              6.90       17.02  \n",
       "2              6.50       11.71  \n",
       "3              6.10        3.86  \n",
       "4              5.70        8.39  \n",
       "...             ...         ...  \n",
       "44686          4.00        0.07  \n",
       "44687          9.00        0.18  \n",
       "44688          3.80        0.90  \n",
       "44689           nan        0.00  \n",
       "44690           nan        0.16  \n",
       "\n",
       "[44691 rows x 7 columns]"
      ]
     },
     "execution_count": 5,
     "metadata": {},
     "output_type": "execute_result"
    }
   ],
   "source": [
    "df_best = df[[\"poster_path\", \"title\", \"budget_musd\", \"revenue_musd\",\n",
    "              \"vote_count\", \"vote_average\", \"popularity\"]].copy()\n",
    "df_best"
   ]
  },
  {
   "cell_type": "code",
   "execution_count": null,
   "metadata": {},
   "outputs": [],
   "source": [
    "df_best[\"profit_musd\"] = df.revenue_musd.sub(df.budget_musd)\n",
    "df_best[\"return\"] = df.revenue_musd.div(df.budget_musd)"
   ]
  },
  {
   "cell_type": "code",
   "execution_count": null,
   "metadata": {},
   "outputs": [],
   "source": [
    "df_best"
   ]
  },
  {
   "cell_type": "code",
   "execution_count": null,
   "metadata": {},
   "outputs": [],
   "source": [
    "df_best.columns = [\"\", \"Title\", \"Budget\", \"Revenue\", \"Votes\", \n",
    "                   \"Average Rating\", \"Popularity\", \"Profit\", \"ROI\"]"
   ]
  },
  {
   "cell_type": "code",
   "execution_count": null,
   "metadata": {},
   "outputs": [],
   "source": [
    "df_best.set_index(\"Title\", inplace = True)"
   ]
  },
  {
   "cell_type": "code",
   "execution_count": null,
   "metadata": {},
   "outputs": [],
   "source": [
    "df_best"
   ]
  },
  {
   "cell_type": "code",
   "execution_count": null,
   "metadata": {},
   "outputs": [],
   "source": [
    "df_best.iloc[0,0]"
   ]
  },
  {
   "cell_type": "code",
   "execution_count": null,
   "metadata": {},
   "outputs": [],
   "source": [
    "subset = df_best.iloc[:5, :2]\n",
    "subset"
   ]
  },
  {
   "cell_type": "code",
   "execution_count": null,
   "metadata": {},
   "outputs": [],
   "source": [
    "HTML(subset.to_html(escape=False))"
   ]
  },
  {
   "cell_type": "code",
   "execution_count": null,
   "metadata": {},
   "outputs": [],
   "source": [
    "df_best.sort_values(by = \"Average Rating\", ascending = False)"
   ]
  },
  {
   "cell_type": "code",
   "execution_count": null,
   "metadata": {},
   "outputs": [],
   "source": [
    "df_best.sort_values(by = \"ROI\", ascending = False)"
   ]
  },
  {
   "cell_type": "code",
   "execution_count": null,
   "metadata": {},
   "outputs": [],
   "source": [
    "df_best.loc[df_best.Budget >= 5].sort_values(by = \"ROI\", ascending = False)"
   ]
  },
  {
   "cell_type": "code",
   "execution_count": null,
   "metadata": {},
   "outputs": [],
   "source": [
    "df_best.Budget.fillna(0, inplace = True)\n",
    "df_best.Votes.fillna(0, inplace = True)"
   ]
  },
  {
   "cell_type": "code",
   "execution_count": null,
   "metadata": {},
   "outputs": [],
   "source": [
    "df_best.info()"
   ]
  },
  {
   "cell_type": "code",
   "execution_count": 7,
   "metadata": {},
   "outputs": [],
   "source": [
    "def best_worst(n, by, ascending = False, min_bud = 0, min_votes = 0):\n",
    "    \n",
    "    \n",
    "    df2 = df_best.loc[(df_best.Budget >= min_bud) & (df_best.Votes >= min_votes), \n",
    "                      [\"\", by]].sort_values(by = by, ascending = ascending).head(n).copy()\n",
    "    \n",
    "    return HTML(df2.to_html(escape=False))"
   ]
  },
  {
   "cell_type": "markdown",
   "metadata": {},
   "source": [
    "## The best and the worst movies... (Part 2)"
   ]
  },
  {
   "cell_type": "markdown",
   "metadata": {},
   "source": [
    "__Movies Top 5 - Highest Revenue__"
   ]
  },
  {
   "cell_type": "code",
   "execution_count": null,
   "metadata": {},
   "outputs": [],
   "source": [
    "best_worst(n = 5, by = \"Revenue\")"
   ]
  },
  {
   "cell_type": "markdown",
   "metadata": {},
   "source": [
    "__Movies Top 5 - Highest Budget__"
   ]
  },
  {
   "cell_type": "code",
   "execution_count": null,
   "metadata": {},
   "outputs": [],
   "source": [
    "best_worst(5, \"Budget\")"
   ]
  },
  {
   "cell_type": "markdown",
   "metadata": {},
   "source": [
    "__Movies Top 5 - Highest Profit__"
   ]
  },
  {
   "cell_type": "code",
   "execution_count": null,
   "metadata": {},
   "outputs": [],
   "source": [
    "best_worst(5, \"Profit\")"
   ]
  },
  {
   "cell_type": "markdown",
   "metadata": {},
   "source": [
    "__Movies Top 5 - Lowest Profit__"
   ]
  },
  {
   "cell_type": "code",
   "execution_count": null,
   "metadata": {},
   "outputs": [],
   "source": [
    "best_worst(5, \"Profit\", ascending = True)"
   ]
  },
  {
   "cell_type": "markdown",
   "metadata": {},
   "source": [
    "__Movies Top 5 - Highest ROI__"
   ]
  },
  {
   "cell_type": "code",
   "execution_count": null,
   "metadata": {},
   "outputs": [],
   "source": [
    "best_worst(5, \"ROI\", min_bud = 50)"
   ]
  },
  {
   "cell_type": "markdown",
   "metadata": {},
   "source": [
    "__Movies Top 5 - Lowest ROI__"
   ]
  },
  {
   "cell_type": "code",
   "execution_count": null,
   "metadata": {},
   "outputs": [],
   "source": [
    "best_worst(5, \"ROI\", ascending = True, min_bud = 100)"
   ]
  },
  {
   "cell_type": "markdown",
   "metadata": {},
   "source": [
    "__Movies Top 5 - Most Votes__"
   ]
  },
  {
   "cell_type": "code",
   "execution_count": null,
   "metadata": {},
   "outputs": [],
   "source": [
    "best_worst(5, \"Votes\")"
   ]
  },
  {
   "cell_type": "markdown",
   "metadata": {},
   "source": [
    "__Movies Top 5 - Highest Rating__"
   ]
  },
  {
   "cell_type": "code",
   "execution_count": null,
   "metadata": {},
   "outputs": [],
   "source": [
    "best_worst(5, \"Average Rating\", min_votes = 50)"
   ]
  },
  {
   "cell_type": "markdown",
   "metadata": {},
   "source": [
    "__Movies Top 5 - Lowest Rating__"
   ]
  },
  {
   "cell_type": "code",
   "execution_count": null,
   "metadata": {},
   "outputs": [],
   "source": [
    "best_worst(5, \"Average Rating\", ascending = True, min_votes = 100)"
   ]
  },
  {
   "cell_type": "code",
   "execution_count": null,
   "metadata": {},
   "outputs": [],
   "source": [
    "best_worst(5, \"Average Rating\", ascending = True, min_votes = 20, min_bud = 20)"
   ]
  },
  {
   "cell_type": "markdown",
   "metadata": {},
   "source": [
    "__Movies Top 5 - Most Popular__"
   ]
  },
  {
   "cell_type": "code",
   "execution_count": null,
   "metadata": {},
   "outputs": [],
   "source": [
    "best_worst(5, \"Popularity\")"
   ]
  },
  {
   "cell_type": "code",
   "execution_count": null,
   "metadata": {},
   "outputs": [],
   "source": []
  },
  {
   "cell_type": "markdown",
   "metadata": {},
   "source": [
    "## Find your next Movie"
   ]
  },
  {
   "cell_type": "markdown",
   "metadata": {},
   "source": [
    "__Search 1: Science Fiction Action Movie with Bruce Willis (high Rating)__"
   ]
  },
  {
   "cell_type": "code",
   "execution_count": null,
   "metadata": {},
   "outputs": [],
   "source": [
    "df.genres[0]"
   ]
  },
  {
   "cell_type": "code",
   "execution_count": 9,
   "metadata": {},
   "outputs": [
    {
     "data": {
      "text/plain": [
       "0        False\n",
       "1        False\n",
       "2        False\n",
       "3        False\n",
       "4        False\n",
       "         ...  \n",
       "44686    False\n",
       "44687    False\n",
       "44688    False\n",
       "44689    False\n",
       "44690    False\n",
       "Name: genres, Length: 44691, dtype: bool"
      ]
     },
     "execution_count": 9,
     "metadata": {},
     "output_type": "execute_result"
    }
   ],
   "source": [
    "mask_genres = df.genres.str.contains(\"Action\") & df.genres.str.contains(\"Science Fiction\")\n",
    "mask_genres"
   ]
  },
  {
   "cell_type": "code",
   "execution_count": null,
   "metadata": {},
   "outputs": [],
   "source": [
    "df.cast[0]"
   ]
  },
  {
   "cell_type": "code",
   "execution_count": null,
   "metadata": {},
   "outputs": [],
   "source": [
    "mask_actor = df.cast.str.contains(\"Bruce Willis\")\n",
    "mask_actor"
   ]
  },
  {
   "cell_type": "code",
   "execution_count": null,
   "metadata": {},
   "outputs": [],
   "source": [
    "df.loc[mask_actor & mask_genres, [\"title\", \"vote_average\"]].sort_values(by = \"vote_average\", \n",
    "                                                                        ascending = False)"
   ]
  },
  {
   "cell_type": "code",
   "execution_count": null,
   "metadata": {},
   "outputs": [],
   "source": [
    "bruce = df.loc[mask_actor & mask_genres, [\"title\", \"poster_path\", \"vote_average\"]].sort_values(by = \"vote_average\", ascending = False).set_index(\"title\")"
   ]
  },
  {
   "cell_type": "code",
   "execution_count": null,
   "metadata": {},
   "outputs": [],
   "source": [
    "HTML(bruce.to_html(escape=False))"
   ]
  },
  {
   "cell_type": "markdown",
   "metadata": {},
   "source": [
    "__Search 2: Movies with Uma Thurman and directed by Quentin Tarantino (low runtime)__"
   ]
  },
  {
   "cell_type": "code",
   "execution_count": null,
   "metadata": {},
   "outputs": [],
   "source": [
    "df.director"
   ]
  },
  {
   "cell_type": "code",
   "execution_count": null,
   "metadata": {},
   "outputs": [],
   "source": [
    "mask_director = df.director == \"Quentin Tarantino\""
   ]
  },
  {
   "cell_type": "code",
   "execution_count": null,
   "metadata": {},
   "outputs": [],
   "source": [
    "mask_actor = df.cast.str.contains(\"Uma Thurman\")"
   ]
  },
  {
   "cell_type": "code",
   "execution_count": null,
   "metadata": {},
   "outputs": [],
   "source": [
    "quentin = df.loc[mask_director & mask_actor, \n",
    "               [\"title\", \"poster_path\", \"runtime\"]].sort_values(by = \"runtime\").set_index(\"title\")"
   ]
  },
  {
   "cell_type": "code",
   "execution_count": null,
   "metadata": {},
   "outputs": [],
   "source": [
    "HTML(quentin.to_html(escape=False))"
   ]
  },
  {
   "cell_type": "markdown",
   "metadata": {},
   "source": [
    "__Search 3: Most Successful Pixar Studio Movies between 2010 and 2015 (high Revenue)__"
   ]
  },
  {
   "cell_type": "code",
   "execution_count": null,
   "metadata": {},
   "outputs": [],
   "source": [
    "df.production_companies[1]"
   ]
  },
  {
   "cell_type": "code",
   "execution_count": null,
   "metadata": {},
   "outputs": [],
   "source": [
    "mask_studio = df.production_companies.str.contains(\"Pixar\").fillna(False)"
   ]
  },
  {
   "cell_type": "code",
   "execution_count": null,
   "metadata": {},
   "outputs": [],
   "source": [
    "df.release_date"
   ]
  },
  {
   "cell_type": "code",
   "execution_count": null,
   "metadata": {
    "scrolled": true
   },
   "outputs": [],
   "source": [
    "mask_time = df.release_date.between(\"2010-01-01\", \"2015-12-31\")"
   ]
  },
  {
   "cell_type": "code",
   "execution_count": null,
   "metadata": {},
   "outputs": [],
   "source": [
    "pixar = df.loc[mask_studio & mask_time, \n",
    "               [\"title\", \"poster_path\", \"revenue_musd\", \"release_date\"]].sort_values(by = \"revenue_musd\", ascending = False).set_index(\"title\")"
   ]
  },
  {
   "cell_type": "code",
   "execution_count": null,
   "metadata": {},
   "outputs": [],
   "source": [
    "HTML(pixar.to_html(escape=False))"
   ]
  },
  {
   "cell_type": "markdown",
   "metadata": {},
   "source": [
    "__Search 4: Action or Thriller Movie with original language English and minimum Rating of 7.5 (most recent)__"
   ]
  },
  {
   "cell_type": "code",
   "execution_count": null,
   "metadata": {},
   "outputs": [],
   "source": [
    "mask_genre = df.genres.str.contains(\"Action\") | df.genres.str.contains(\"Thriller\")"
   ]
  },
  {
   "cell_type": "code",
   "execution_count": null,
   "metadata": {},
   "outputs": [],
   "source": [
    "mask_lan = df.original_language == \"en\""
   ]
  },
  {
   "cell_type": "code",
   "execution_count": null,
   "metadata": {},
   "outputs": [],
   "source": [
    "mask_vote_av = df.vote_average >= 7.5 "
   ]
  },
  {
   "cell_type": "code",
   "execution_count": null,
   "metadata": {},
   "outputs": [],
   "source": [
    "mask_vote_co = df.vote_count >= 10"
   ]
  },
  {
   "cell_type": "code",
   "execution_count": null,
   "metadata": {},
   "outputs": [],
   "source": [
    "next_mov = df.loc[mask_genre & mask_lan & mask_vote_av & mask_vote_co, \n",
    "               [\"title\", \"poster_path\", \"genres\", \"vote_average\", \"vote_count\", \"release_date\"]].sort_values(by = \"release_date\", ascending = False).set_index(\"title\").head(20)"
   ]
  },
  {
   "cell_type": "code",
   "execution_count": null,
   "metadata": {},
   "outputs": [],
   "source": [
    "HTML(next_mov.to_html(escape=False))"
   ]
  },
  {
   "cell_type": "code",
   "execution_count": null,
   "metadata": {},
   "outputs": [],
   "source": []
  },
  {
   "cell_type": "markdown",
   "metadata": {},
   "source": [
    "## What are the most common Words in Movie Titles and Taglines?"
   ]
  },
  {
   "cell_type": "code",
   "execution_count": null,
   "metadata": {},
   "outputs": [],
   "source": [
    "from wordcloud import WordCloud"
   ]
  },
  {
   "cell_type": "code",
   "execution_count": null,
   "metadata": {},
   "outputs": [],
   "source": [
    "df"
   ]
  },
  {
   "cell_type": "code",
   "execution_count": null,
   "metadata": {},
   "outputs": [],
   "source": [
    "df.tagline[1]"
   ]
  },
  {
   "cell_type": "code",
   "execution_count": null,
   "metadata": {},
   "outputs": [],
   "source": [
    "df.overview[1]"
   ]
  },
  {
   "cell_type": "code",
   "execution_count": null,
   "metadata": {},
   "outputs": [],
   "source": [
    "title = df.title.dropna()\n",
    "overview = df.overview.dropna()\n",
    "tagline = df.tagline.dropna()"
   ]
  },
  {
   "cell_type": "code",
   "execution_count": null,
   "metadata": {},
   "outputs": [],
   "source": [
    "title"
   ]
  },
  {
   "cell_type": "code",
   "execution_count": null,
   "metadata": {},
   "outputs": [],
   "source": [
    "' '.join(title)"
   ]
  },
  {
   "cell_type": "code",
   "execution_count": null,
   "metadata": {},
   "outputs": [],
   "source": [
    "title_corpus = ' '.join(title)\n",
    "overview_corpus = ' '.join(overview)\n",
    "tagline_corpus = ' '.join(tagline)"
   ]
  },
  {
   "cell_type": "code",
   "execution_count": null,
   "metadata": {},
   "outputs": [],
   "source": [
    "tagline_corpus"
   ]
  },
  {
   "cell_type": "code",
   "execution_count": null,
   "metadata": {},
   "outputs": [],
   "source": [
    "title_wordcloud = WordCloud(background_color='white', height=2000, width=4000, max_words= 200).generate(title_corpus)\n",
    "title_wordcloud"
   ]
  },
  {
   "cell_type": "code",
   "execution_count": null,
   "metadata": {},
   "outputs": [],
   "source": [
    "plt.figure(figsize=(16,8))\n",
    "plt.imshow(title_wordcloud, interpolation= \"bilinear\")\n",
    "plt.axis('off')\n",
    "plt.show()"
   ]
  },
  {
   "cell_type": "code",
   "execution_count": null,
   "metadata": {},
   "outputs": [],
   "source": [
    "tagline_wordcloud = WordCloud(background_color='white', height=2000, width=4000).generate(tagline_corpus)\n",
    "plt.figure(figsize=(16,8))\n",
    "plt.imshow(tagline_wordcloud, interpolation= \"bilinear\")\n",
    "plt.axis('off')\n",
    "plt.show()"
   ]
  },
  {
   "cell_type": "code",
   "execution_count": null,
   "metadata": {},
   "outputs": [],
   "source": [
    "overview_wordcloud = WordCloud(background_color='white', height=2000, width=4000).generate(overview_corpus)\n",
    "plt.figure(figsize=(16,8))\n",
    "plt.imshow(overview_wordcloud, interpolation= \"bilinear\")\n",
    "plt.axis('off')\n",
    "plt.show()"
   ]
  },
  {
   "cell_type": "code",
   "execution_count": null,
   "metadata": {},
   "outputs": [],
   "source": []
  },
  {
   "cell_type": "markdown",
   "metadata": {},
   "source": [
    "## Are Franchises more successful?"
   ]
  },
  {
   "cell_type": "code",
   "execution_count": null,
   "metadata": {},
   "outputs": [],
   "source": [
    "df.belongs_to_collection"
   ]
  },
  {
   "cell_type": "code",
   "execution_count": null,
   "metadata": {},
   "outputs": [],
   "source": [
    "df[\"Franchise\"] = df.belongs_to_collection.notna()"
   ]
  },
  {
   "cell_type": "code",
   "execution_count": null,
   "metadata": {},
   "outputs": [],
   "source": [
    "df.Franchise"
   ]
  },
  {
   "cell_type": "code",
   "execution_count": null,
   "metadata": {},
   "outputs": [],
   "source": [
    "df.Franchise.value_counts()"
   ]
  },
  {
   "cell_type": "markdown",
   "metadata": {},
   "source": [
    "__Franchise vs. Stand-alone: Average Revenue__"
   ]
  },
  {
   "cell_type": "code",
   "execution_count": null,
   "metadata": {},
   "outputs": [],
   "source": [
    "df.groupby(\"Franchise\").revenue_musd.mean()"
   ]
  },
  {
   "cell_type": "markdown",
   "metadata": {},
   "source": [
    "__Franchise vs. Stand-alone: Return on Investment / Profitability__"
   ]
  },
  {
   "cell_type": "code",
   "execution_count": null,
   "metadata": {},
   "outputs": [],
   "source": [
    "df[\"ROI\"] = df.revenue_musd.div(df.budget_musd)"
   ]
  },
  {
   "cell_type": "code",
   "execution_count": null,
   "metadata": {},
   "outputs": [],
   "source": [
    "df.groupby(\"Franchise\").ROI.median()"
   ]
  },
  {
   "cell_type": "markdown",
   "metadata": {},
   "source": [
    "__Franchise vs. Stand-alone: Average Budget__"
   ]
  },
  {
   "cell_type": "code",
   "execution_count": null,
   "metadata": {},
   "outputs": [],
   "source": [
    "df.groupby(\"Franchise\").budget_musd.mean()"
   ]
  },
  {
   "cell_type": "markdown",
   "metadata": {},
   "source": [
    "__Franchise vs. Stand-alone: Average Popularity__"
   ]
  },
  {
   "cell_type": "code",
   "execution_count": null,
   "metadata": {},
   "outputs": [],
   "source": [
    "df.groupby(\"Franchise\").popularity.mean()"
   ]
  },
  {
   "cell_type": "markdown",
   "metadata": {},
   "source": [
    "__Franchise vs. Stand-alone: Average Rating__"
   ]
  },
  {
   "cell_type": "code",
   "execution_count": null,
   "metadata": {},
   "outputs": [],
   "source": [
    "df.groupby(\"Franchise\").vote_average.mean()"
   ]
  },
  {
   "cell_type": "code",
   "execution_count": null,
   "metadata": {},
   "outputs": [],
   "source": [
    "df.groupby(\"Franchise\").agg({\"budget_musd\": \"mean\", \"revenue_musd\": \"mean\", \"vote_average\": \"mean\",\n",
    "                            \"popularity\": \"mean\", \"ROI\":\"median\", \"vote_count\":\"mean\"})"
   ]
  },
  {
   "cell_type": "code",
   "execution_count": null,
   "metadata": {},
   "outputs": [],
   "source": []
  },
  {
   "cell_type": "markdown",
   "metadata": {},
   "source": [
    "## Most Successful Franchises"
   ]
  },
  {
   "cell_type": "code",
   "execution_count": null,
   "metadata": {},
   "outputs": [],
   "source": [
    "df.belongs_to_collection"
   ]
  },
  {
   "cell_type": "code",
   "execution_count": null,
   "metadata": {},
   "outputs": [],
   "source": [
    "df.belongs_to_collection.value_counts()"
   ]
  },
  {
   "cell_type": "code",
   "execution_count": null,
   "metadata": {},
   "outputs": [],
   "source": [
    "franchises = df.groupby(\"belongs_to_collection\").agg({\"title\":\"count\", \"budget_musd\": [\"sum\", \"mean\"], \n",
    "                                                      \"revenue_musd\": [\"sum\", \"mean\"],\n",
    "                                                      \"vote_average\": \"mean\", \"popularity\": \"mean\",\n",
    "                                                      \"ROI\":\"median\", \n",
    "                                                      \"vote_count\":\"mean\"})"
   ]
  },
  {
   "cell_type": "code",
   "execution_count": null,
   "metadata": {},
   "outputs": [],
   "source": [
    "franchises"
   ]
  },
  {
   "cell_type": "code",
   "execution_count": null,
   "metadata": {},
   "outputs": [],
   "source": [
    "franchises.nlargest(20, (\"title\", \"count\"))"
   ]
  },
  {
   "cell_type": "code",
   "execution_count": null,
   "metadata": {},
   "outputs": [],
   "source": [
    "franchises.nlargest(20, (\"revenue_musd\", \"mean\"))"
   ]
  },
  {
   "cell_type": "code",
   "execution_count": null,
   "metadata": {},
   "outputs": [],
   "source": [
    "franchises.nlargest(20, (\"budget_musd\", \"mean\"))"
   ]
  },
  {
   "cell_type": "code",
   "execution_count": null,
   "metadata": {},
   "outputs": [],
   "source": [
    "franchises[franchises[(\"vote_count\", \"mean\")] >=1000].nlargest(20, (\"vote_average\", \"mean\"))"
   ]
  },
  {
   "cell_type": "code",
   "execution_count": null,
   "metadata": {},
   "outputs": [],
   "source": []
  },
  {
   "cell_type": "markdown",
   "metadata": {},
   "source": [
    "## Most Successful Directors"
   ]
  },
  {
   "cell_type": "code",
   "execution_count": null,
   "metadata": {},
   "outputs": [],
   "source": [
    "df.director"
   ]
  },
  {
   "cell_type": "code",
   "execution_count": null,
   "metadata": {},
   "outputs": [],
   "source": [
    "df.director.value_counts().head(20)"
   ]
  },
  {
   "cell_type": "code",
   "execution_count": null,
   "metadata": {},
   "outputs": [],
   "source": [
    "plt.figure(figsize = (12, 8))\n",
    "df.director.value_counts().head(20).plot(kind='bar', fontsize = 15)\n",
    "plt.title(\"Most Active Directors\",fontsize = 20)\n",
    "plt.ylabel(\"Number of Movies\", fontsize = 15)\n",
    "plt.show()"
   ]
  },
  {
   "cell_type": "code",
   "execution_count": null,
   "metadata": {},
   "outputs": [],
   "source": [
    "df.groupby(\"director\").revenue_musd.sum().nlargest(20)"
   ]
  },
  {
   "cell_type": "code",
   "execution_count": null,
   "metadata": {},
   "outputs": [],
   "source": [
    "plt.figure(figsize = (12, 8))\n",
    "df.groupby(\"director\").revenue_musd.sum().nlargest(20).plot(kind='bar', fontsize = 15)\n",
    "plt.title(\"Total Revenue\",fontsize = 20)\n",
    "plt.ylabel(\"Revenue (in MUSD)\", fontsize = 15)\n",
    "plt.show()"
   ]
  },
  {
   "cell_type": "code",
   "execution_count": null,
   "metadata": {},
   "outputs": [],
   "source": [
    "directors = df.groupby(\"director\").agg({\"title\": \"count\", \"vote_average\" :\"mean\", \"vote_count\": \"sum\"})"
   ]
  },
  {
   "cell_type": "code",
   "execution_count": null,
   "metadata": {},
   "outputs": [],
   "source": [
    "directors"
   ]
  },
  {
   "cell_type": "code",
   "execution_count": null,
   "metadata": {},
   "outputs": [],
   "source": [
    "directors[(directors.vote_count >= 10000) & (directors.title >= 10)].nlargest(20, \"vote_average\")"
   ]
  },
  {
   "cell_type": "code",
   "execution_count": null,
   "metadata": {},
   "outputs": [],
   "source": [
    "df.genres = df.genres.astype(str)"
   ]
  },
  {
   "cell_type": "code",
   "execution_count": null,
   "metadata": {},
   "outputs": [],
   "source": [
    "df.loc[df.genres.str.contains(\"Horror\")].groupby(\"director\").revenue_musd.sum().nlargest(20)"
   ]
  },
  {
   "cell_type": "code",
   "execution_count": null,
   "metadata": {},
   "outputs": [],
   "source": []
  },
  {
   "cell_type": "markdown",
   "metadata": {},
   "source": [
    "## Most Successful Actors (Part 1)"
   ]
  },
  {
   "cell_type": "code",
   "execution_count": null,
   "metadata": {},
   "outputs": [],
   "source": [
    "df.cast"
   ]
  },
  {
   "cell_type": "code",
   "execution_count": null,
   "metadata": {},
   "outputs": [],
   "source": [
    "df"
   ]
  },
  {
   "cell_type": "code",
   "execution_count": null,
   "metadata": {},
   "outputs": [],
   "source": [
    "df.set_index(\"id\", inplace = True)"
   ]
  },
  {
   "cell_type": "code",
   "execution_count": null,
   "metadata": {},
   "outputs": [],
   "source": [
    "df.info()"
   ]
  },
  {
   "cell_type": "code",
   "execution_count": null,
   "metadata": {},
   "outputs": [],
   "source": [
    "df.cast"
   ]
  },
  {
   "cell_type": "code",
   "execution_count": null,
   "metadata": {},
   "outputs": [],
   "source": [
    "df.cast.str.split(\"|\", expand = True)"
   ]
  },
  {
   "cell_type": "code",
   "execution_count": null,
   "metadata": {},
   "outputs": [],
   "source": [
    "act = df.cast.str.split(\"|\", expand = True)\n",
    "act"
   ]
  },
  {
   "cell_type": "code",
   "execution_count": null,
   "metadata": {},
   "outputs": [],
   "source": [
    "act.stack().reset_index(level=1, drop=True).to_frame()"
   ]
  },
  {
   "cell_type": "code",
   "execution_count": null,
   "metadata": {},
   "outputs": [],
   "source": [
    "act = act.stack().reset_index(level=1, drop=True).to_frame()"
   ]
  },
  {
   "cell_type": "code",
   "execution_count": null,
   "metadata": {},
   "outputs": [],
   "source": [
    "act"
   ]
  },
  {
   "cell_type": "code",
   "execution_count": null,
   "metadata": {},
   "outputs": [],
   "source": [
    "act.columns = [\"Actor\"]"
   ]
  },
  {
   "cell_type": "code",
   "execution_count": null,
   "metadata": {},
   "outputs": [],
   "source": [
    "act = act.merge(df[[\"title\", \"revenue_musd\", \"vote_average\", \"popularity\"]],\n",
    "                how = \"left\", left_index = True, right_index = True)"
   ]
  },
  {
   "cell_type": "code",
   "execution_count": null,
   "metadata": {},
   "outputs": [],
   "source": [
    "act"
   ]
  },
  {
   "cell_type": "markdown",
   "metadata": {},
   "source": [
    "## Most Successful Actors (Part 2)"
   ]
  },
  {
   "cell_type": "code",
   "execution_count": null,
   "metadata": {},
   "outputs": [],
   "source": [
    "act"
   ]
  },
  {
   "cell_type": "code",
   "execution_count": null,
   "metadata": {},
   "outputs": [],
   "source": [
    "act.Actor.nunique()"
   ]
  },
  {
   "cell_type": "code",
   "execution_count": null,
   "metadata": {},
   "outputs": [],
   "source": [
    "act.Actor.unique()"
   ]
  },
  {
   "cell_type": "code",
   "execution_count": null,
   "metadata": {},
   "outputs": [],
   "source": [
    "act.Actor.value_counts().head(20)"
   ]
  },
  {
   "cell_type": "code",
   "execution_count": null,
   "metadata": {},
   "outputs": [],
   "source": [
    "plt.figure(figsize = (12, 8))\n",
    "act.Actor.value_counts().head(20).plot(kind='bar', fontsize = 15)\n",
    "plt.title(\"Most Active Actors\",fontsize = 20)\n",
    "plt.ylabel(\"Number of Movies\", fontsize = 15)\n",
    "plt.show()"
   ]
  },
  {
   "cell_type": "code",
   "execution_count": null,
   "metadata": {},
   "outputs": [],
   "source": [
    "agg = act.groupby(\"Actor\").agg(Total_Revenue = (\"revenue_musd\", \"sum\"), \n",
    "                               Mean_Revenue = (\"revenue_musd\", \"mean\"),\n",
    "                               Mean_Rating = (\"vote_average\", \"mean\"), \n",
    "                               Mean_Pop = (\"popularity\", \"mean\"), \n",
    "                               Total_Movies = (\"Actor\", \"count\"))"
   ]
  },
  {
   "cell_type": "code",
   "execution_count": null,
   "metadata": {},
   "outputs": [],
   "source": [
    "agg.nlargest(10, \"Total_Movies\")"
   ]
  },
  {
   "cell_type": "code",
   "execution_count": null,
   "metadata": {},
   "outputs": [],
   "source": [
    "agg.nlargest(10, \"Total_Revenue\")"
   ]
  },
  {
   "cell_type": "code",
   "execution_count": null,
   "metadata": {},
   "outputs": [],
   "source": [
    "plt.figure(figsize = (12, 8))\n",
    "agg.Total_Revenue.nlargest(10).plot(kind='bar', fontsize = 15)\n",
    "plt.title(\"Total Revenue\",fontsize = 20)\n",
    "plt.ylabel(\"Revenue (in MUSD)\", fontsize = 15)\n",
    "plt.show()"
   ]
  },
  {
   "cell_type": "code",
   "execution_count": null,
   "metadata": {},
   "outputs": [],
   "source": [
    "agg.Mean_Revenue.nlargest(10)"
   ]
  },
  {
   "cell_type": "code",
   "execution_count": null,
   "metadata": {},
   "outputs": [],
   "source": [
    "act[act.Actor == \"Ashley Jeffery\"]"
   ]
  },
  {
   "cell_type": "code",
   "execution_count": null,
   "metadata": {},
   "outputs": [],
   "source": [
    "agg[agg.Total_Movies >= 10].nlargest(10, \"Mean_Revenue\")"
   ]
  },
  {
   "cell_type": "code",
   "execution_count": null,
   "metadata": {},
   "outputs": [],
   "source": [
    "agg[agg.Total_Movies >= 10].nlargest(10, \"Mean_Rating\")"
   ]
  },
  {
   "cell_type": "code",
   "execution_count": null,
   "metadata": {},
   "outputs": [],
   "source": [
    "agg[agg.Total_Movies >= 10].nlargest(10, \"Mean_Pop\")"
   ]
  },
  {
   "cell_type": "code",
   "execution_count": null,
   "metadata": {},
   "outputs": [],
   "source": []
  }
 ],
 "metadata": {
  "kernelspec": {
   "display_name": "Python 3",
   "language": "python",
   "name": "python3"
  },
  "language_info": {
   "codemirror_mode": {
    "name": "ipython",
    "version": 3
   },
   "file_extension": ".py",
   "mimetype": "text/x-python",
   "name": "python",
   "nbconvert_exporter": "python",
   "pygments_lexer": "ipython3",
   "version": "3.7.4"
  }
 },
 "nbformat": 4,
 "nbformat_minor": 4
}
